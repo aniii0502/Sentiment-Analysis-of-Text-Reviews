{
 "cells": [
  {
   "cell_type": "code",
   "execution_count": 2,
   "id": "9e3a6938",
   "metadata": {},
   "outputs": [],
   "source": [
    "import pandas as pd\n",
    "import numpy as np\n",
    "import matplotlib.pyplot as plt\n",
    "import seaborn as sns\n",
    "\n",
    "sns.set_style(\"whitegrid\")"
   ]
  },
  {
   "cell_type": "code",
   "execution_count": 3,
   "id": "767f789c",
   "metadata": {},
   "outputs": [
    {
     "name": "stdout",
     "output_type": "stream",
     "text": [
      "Dataset loaded successfully!\n"
     ]
    }
   ],
   "source": [
    "file_path = \"../data/IMDB Dataset.csv\"\n",
    "\n",
    "try:\n",
    "    df = pd.read_csv(file_path)\n",
    "    print(\"Dataset loaded successfully!\")\n",
    "except FileNotFoundError:\n",
    "    print(f\"Error: Dataset file not found at {file_path}\")\n",
    "    print(\"Please make sure you have downloaded the 'IMDB Dataset.csv' and placed it in the 'data' folder.\")"
   ]
  },
  {
   "cell_type": "code",
   "execution_count": 4,
   "id": "94d62cb0",
   "metadata": {},
   "outputs": [
    {
     "name": "stdout",
     "output_type": "stream",
     "text": [
      "\n",
      "--- First 5 Rows of the Data ---\n",
      "                                              review sentiment\n",
      "0  One of the other reviewers has mentioned that ...  positive\n",
      "1  A wonderful little production. <br /><br />The...  positive\n",
      "2  I thought this was a wonderful way to spend ti...  positive\n",
      "3  Basically there's a family where a little boy ...  negative\n",
      "4  Petter Mattei's \"Love in the Time of Money\" is...  positive\n"
     ]
    }
   ],
   "source": [
    "if 'df' in locals():\n",
    "    print(\"\\n--- First 5 Rows of the Data ---\")\n",
    "    print(df.head())"
   ]
  },
  {
   "cell_type": "code",
   "execution_count": 5,
   "id": "a58ff3a5",
   "metadata": {},
   "outputs": [
    {
     "name": "stdout",
     "output_type": "stream",
     "text": [
      "\n",
      "--- Dataset Dimensions (Rows, Columns) ---\n",
      "(50000, 2)\n"
     ]
    }
   ],
   "source": [
    "if 'df' in locals():\n",
    "    print(f\"\\n--- Dataset Dimensions (Rows, Columns) ---\")\n",
    "    print(df.shape)"
   ]
  },
  {
   "cell_type": "code",
   "execution_count": 6,
   "id": "98870a08",
   "metadata": {},
   "outputs": [
    {
     "name": "stdout",
     "output_type": "stream",
     "text": [
      "\n",
      "--- Missing Values Per Column ---\n",
      "review       0\n",
      "sentiment    0\n",
      "dtype: int64\n"
     ]
    }
   ],
   "source": [
    "if 'df' in locals():\n",
    "    print(\"\\n--- Missing Values Per Column ---\")\n",
    "    print(df.isnull().sum())"
   ]
  },
  {
   "cell_type": "code",
   "execution_count": 7,
   "id": "75bf35f1",
   "metadata": {},
   "outputs": [
    {
     "name": "stdout",
     "output_type": "stream",
     "text": [
      "\n",
      "Number of duplicate rows: 418\n"
     ]
    }
   ],
   "source": [
    "if 'df' in locals():\n",
    "    print(f\"\\nNumber of duplicate rows: {df.duplicated().sum()}\")"
   ]
  },
  {
   "cell_type": "code",
   "execution_count": 8,
   "id": "52d3dbc1",
   "metadata": {},
   "outputs": [
    {
     "name": "stdout",
     "output_type": "stream",
     "text": [
      "\n",
      "--- Class Distribution (Sentiment) ---\n",
      "sentiment\n",
      "positive    25000\n",
      "negative    25000\n",
      "Name: count, dtype: int64\n"
     ]
    }
   ],
   "source": [
    "if 'df' in locals():\n",
    "    print(\"\\n--- Class Distribution (Sentiment) ---\")\n",
    "    print(df['sentiment'].value_counts())"
   ]
  },
  {
   "cell_type": "code",
   "execution_count": 9,
   "id": "0c87bd2f",
   "metadata": {},
   "outputs": [
    {
     "data": {
      "image/png": "[encoded data removed]",
      "text/plain": [
       "<Figure size 800x500 with 1 Axes>"
      ]
     },
     "metadata": {},
     "output_type": "display_data"
    }
   ],
   "source": [
    "if 'df' in locals():\n",
    "    plt.figure(figsize=(8, 5))\n",
    "    sns.countplot(x='sentiment', data=df)\n",
    "    plt.title('Sentiment Class Distribution')\n",
    "    plt.xlabel('Sentiment')\n",
    "    plt.ylabel('Count')\n",
    "    plt.show()"
   ]
  },
  {
   "cell_type": "code",
   "execution_count": 10,
   "id": "28699eae",
   "metadata": {},
   "outputs": [
    {
     "name": "stdout",
     "output_type": "stream",
     "text": [
      "\n",
      "Dataset is 50.00% positive and 50.00% negative.\n"
     ]
    }
   ],
   "source": [
    "if 'df' in locals():\n",
    "    total = len(df)\n",
    "    positive_pct = (df['sentiment'].value_counts()['positive'] / total) * 100\n",
    "    negative_pct = (df['sentiment'].value_counts()['negative'] / total) * 100\n",
    "    print(f\"\\nDataset is {positive_pct:.2f}% positive and {negative_pct:.2f}% negative.\")"
   ]
  },
  {
   "cell_type": "code",
   "execution_count": 11,
   "id": "54951c20",
   "metadata": {},
   "outputs": [
    {
     "name": "stdout",
     "output_type": "stream",
     "text": [
      "NLTK modules downloaded.\n"
     ]
    },
    {
     "name": "stderr",
     "output_type": "stream",
     "text": [
      "[nltk_data] Downloading package stopwords to\n",
      "[nltk_data]     C:\\Users\\akkum/nltk_data...\n",
      "[nltk_data]   Package stopwords is already up-to-date!\n",
      "[nltk_data] Downloading package wordnet to C:\\Users\\akkum/nltk_data...\n",
      "[nltk_data]   Package wordnet is already up-to-date!\n",
      "[nltk_data] Downloading package punkt to C:\\Users\\akkum/nltk_data...\n",
      "[nltk_data]   Package punkt is already up-to-date!\n"
     ]
    }
   ],
   "source": [
    "import re\n",
    "import nltk\n",
    "from nltk.corpus import stopwords\n",
    "from nltk.tokenize import word_tokenize\n",
    "from nltk.stem import WordNetLemmatizer\n",
    "\n",
    "nltk.download('stopwords')\n",
    "\n",
    "nltk.download('wordnet')\n",
    "\n",
    "nltk.download('punkt')\n",
    "\n",
    "print(\"NLTK modules downloaded.\")"
   ]
  },
  {
   "cell_type": "code",
   "execution_count": 12,
   "id": "5fa55231",
   "metadata": {},
   "outputs": [
    {
     "name": "stdout",
     "output_type": "stream",
     "text": [
      "Loaded 198 stopwords.\n"
     ]
    }
   ],
   "source": [
    "stop_words = set(stopwords.words('english'))\n",
    "print(f\"Loaded {len(stop_words)} stopwords.\")"
   ]
  },
  {
   "cell_type": "code",
   "execution_count": 13,
   "id": "62dc6221",
   "metadata": {},
   "outputs": [],
   "source": [
    "def to_lower(text):\n",
    "    return text.lower()\n",
    "\n",
    "def remove_html(text):\n",
    "    return re.sub(r'<[^>]+>', ' ', text)\n",
    "\n",
    "def remove_punctuation_and_numbers(text):\n",
    "    return re.sub(r'[^a-zA-Z\\s]', '', text, re.I|re.A)"
   ]
  },
  {
   "cell_type": "code",
   "execution_count": 14,
   "id": "bbefaf06",
   "metadata": {},
   "outputs": [
    {
     "name": "stdout",
     "output_type": "stream",
     "text": [
      "Starting initial text cleaning...\n",
      "Initial cleaning complete.\n",
      "\n",
      "--- Cleaning Comparison ---\n",
      "Original Review:\n",
      " Probably my all-time favorite movie, a story of selflessness, sacrifice and dedication to a noble cause, but it's not preachy or boring. It just never gets old, despite my having seen it some 15 or more times in the last 25 years. Paul Lukas' performance brings tears to my eyes, and Bette Davis, in one of her very few truly sympathetic roles, is a delight. The kids are, as grandma says, more like \"dressed-up midgets\" than children, but that only makes them more fun to watch. And the mother's slow awakening to what's happening in the world and under her own roof is believable and startling. If I had a dozen thumbs, they'd all be \"up\" for this movie.\n",
      "\n",
      "Cleaned Review:\n",
      " probably my alltime favorite movie a story of selflessness sacrifice and dedication to a noble cause but its not preachy or boring it just never gets old despite my having seen it some  or more times in the last  years paul lukas performance brings tears to my eyes and bette davis in one of her very few truly sympathetic roles is a delight the kids are as grandma says more like dressedup midgets than children but that only makes them more fun to watch and the mothers slow awakening to whats happening in the world and under her own roof is believable and startling if i had a dozen thumbs theyd all be up for this movie\n"
     ]
    }
   ],
   "source": [
    "print(\"Starting initial text cleaning...\")\n",
    "df['cleaned_review'] = df['review'].copy()\n",
    "\n",
    "df['cleaned_review'] = df['cleaned_review'].apply(to_lower)\n",
    "\n",
    "df['cleaned_review'] = df['cleaned_review'].apply(remove_html)\n",
    "\n",
    "df['cleaned_review'] = df['cleaned_review'].apply(remove_punctuation_and_numbers)\n",
    "\n",
    "print(\"Initial cleaning complete.\")\n",
    "\n",
    "print(\"\\n--- Cleaning Comparison ---\")\n",
    "print(\"Original Review:\\n\", df['review'].iloc[5])\n",
    "print(\"\\nCleaned Review:\\n\", df['cleaned_review'].iloc[5])"
   ]
  },
  {
   "cell_type": "code",
   "execution_count": 15,
   "id": "41afe868",
   "metadata": {},
   "outputs": [],
   "source": [
    "def tokenize_and_remove_stopwords(text):\n",
    "    if pd.isna(text) or text == '':\n",
    "        return []\n",
    "    \n",
    "    text = str(text)\n",
    "    \n",
    "    try:\n",
    "        tokens = word_tokenize(text)\n",
    "    except:\n",
    "        tokens = text.split()\n",
    "    \n",
    "    clean_tokens = [word for word in tokens if word not in stop_words and word.isalpha()]\n",
    "    \n",
    "    return clean_tokens"
   ]
  },
  {
   "cell_type": "code",
   "execution_count": 16,
   "id": "0c841c46",
   "metadata": {},
   "outputs": [
    {
     "name": "stdout",
     "output_type": "stream",
     "text": [
      "Tokenizing and removing stopwords...\n",
      "Tokenization complete.\n",
      "\n",
      "--- Tokenization Example ---\n",
      "Cleaned Review:\n",
      " probably my alltime favorite movie a story of selflessness sacrifice and dedication to a noble cause but its not preachy or boring it just never gets old despite my having seen it some  or more times in the last  years paul lukas performance brings tears to my eyes and bette davis in one of her very few truly sympathetic roles is a delight the kids are as grandma says more like dressedup midgets than children but that only makes them more fun to watch and the mothers slow awakening to whats happening in the world and under her own roof is believable and startling if i had a dozen thumbs theyd all be up for this movie\n",
      "\n",
      "Tokens:\n",
      " ['probably', 'alltime', 'favorite', 'movie', 'story', 'selflessness', 'sacrifice', 'dedication', 'noble', 'cause', 'preachy', 'boring', 'never', 'gets', 'old', 'despite', 'seen', 'times', 'last', 'years', 'paul', 'lukas', 'performance', 'brings', 'tears', 'eyes', 'bette', 'davis', 'one', 'truly', 'sympathetic', 'roles', 'delight', 'kids', 'grandma', 'says', 'like', 'dressedup', 'midgets', 'children', 'makes', 'fun', 'watch', 'mothers', 'slow', 'awakening', 'whats', 'happening', 'world', 'roof', 'believable', 'startling', 'dozen', 'thumbs', 'theyd', 'movie']\n"
     ]
    }
   ],
   "source": [
    "print(\"Tokenizing and removing stopwords...\")\n",
    "df['tokens'] = df['cleaned_review'].apply(tokenize_and_remove_stopwords)\n",
    "\n",
    "print(\"Tokenization complete.\")\n",
    "\n",
    "print(\"\\n--- Tokenization Example ---\")\n",
    "print(\"Cleaned Review:\\n\", df['cleaned_review'].iloc[5])\n",
    "print(\"\\nTokens:\\n\", df['tokens'].iloc[5])"
   ]
  },
  {
   "cell_type": "code",
   "execution_count": 17,
   "id": "c2a80273",
   "metadata": {},
   "outputs": [
    {
     "name": "stdout",
     "output_type": "stream",
     "text": [
      "Lemmatizing tokens...\n",
      "Lemmatization complete.\n"
     ]
    }
   ],
   "source": [
    "lemmatizer = WordNetLemmatizer()\n",
    "\n",
    "def lemmatize_tokens(tokens):\n",
    "    lemmatized_tokens = [lemmatizer.lemmatize(token) for token in tokens]\n",
    "    return lemmatized_tokens\n",
    "\n",
    "print(\"Lemmatizing tokens...\")\n",
    "\n",
    "df['tokens_lemmatized'] = df['tokens'].apply(lemmatize_tokens)\n",
    "\n",
    "print(\"Lemmatization complete.\")\n"
   ]
  },
  {
   "cell_type": "code",
   "execution_count": 18,
   "id": "06d6cc75",
   "metadata": {},
   "outputs": [
    {
     "name": "stdout",
     "output_type": "stream",
     "text": [
      "\n",
      "--- Lemmatization Example ---\n",
      "Original Tokens:\n",
      " ['probably', 'alltime', 'favorite', 'movie', 'story', 'selflessness', 'sacrifice', 'dedication', 'noble', 'cause', 'preachy', 'boring', 'never', 'gets', 'old', 'despite', 'seen', 'times', 'last', 'years', 'paul', 'lukas', 'performance', 'brings', 'tears', 'eyes', 'bette', 'davis', 'one', 'truly', 'sympathetic', 'roles', 'delight', 'kids', 'grandma', 'says', 'like', 'dressedup', 'midgets', 'children', 'makes', 'fun', 'watch', 'mothers', 'slow', 'awakening', 'whats', 'happening', 'world', 'roof', 'believable', 'startling', 'dozen', 'thumbs', 'theyd', 'movie']\n",
      "\n",
      "Lemmatized Tokens:\n",
      " ['probably', 'alltime', 'favorite', 'movie', 'story', 'selflessness', 'sacrifice', 'dedication', 'noble', 'cause', 'preachy', 'boring', 'never', 'get', 'old', 'despite', 'seen', 'time', 'last', 'year', 'paul', 'lukas', 'performance', 'brings', 'tear', 'eye', 'bette', 'davis', 'one', 'truly', 'sympathetic', 'role', 'delight', 'kid', 'grandma', 'say', 'like', 'dressedup', 'midget', 'child', 'make', 'fun', 'watch', 'mother', 'slow', 'awakening', 'whats', 'happening', 'world', 'roof', 'believable', 'startling', 'dozen', 'thumb', 'theyd', 'movie']\n"
     ]
    }
   ],
   "source": [
    "print(\"\\n--- Lemmatization Example ---\")\n",
    "print(\"Original Tokens:\\n\", df['tokens'].iloc[5])\n",
    "print(\"\\nLemmatized Tokens:\\n\", df['tokens_lemmatized'].iloc[5])"
   ]
  },
  {
   "cell_type": "code",
   "execution_count": 19,
   "id": "f9de41c0",
   "metadata": {},
   "outputs": [
    {
     "name": "stdout",
     "output_type": "stream",
     "text": [
      "Rejoining tokens into final processed string...\n",
      "All text processing is complete.\n"
     ]
    }
   ],
   "source": [
    "def join_tokens(tokens):\n",
    "    return ' '.join(tokens)\n",
    "\n",
    "print(\"Rejoining tokens into final processed string...\")\n",
    "\n",
    "df['final_processed_review'] = df['tokens_lemmatized'].apply(join_tokens)\n",
    "\n",
    "print(\"All text processing is complete.\")"
   ]
  },
  {
   "cell_type": "code",
   "execution_count": 20,
   "id": "e1b86979",
   "metadata": {},
   "outputs": [
    {
     "name": "stdout",
     "output_type": "stream",
     "text": [
      "\n",
      "--- END-TO-END PROCESSING EXAMPLE ---\n",
      "Original Review:\n",
      " Probably my all-time favorite movie, a story of selflessness, sacrifice and dedication to a noble cause, but it's not preachy or boring. It just never gets old, despite my having seen it some 15 or more times in the last 25 years. Paul Lukas' performance brings tears to my eyes, and Bette Davis, in one of her very few truly sympathetic roles, is a delight. The kids are, as grandma says, more like \"dressed-up midgets\" than children, but that only makes them more fun to watch. And the mother's slow awakening to what's happening in the world and under her own roof is believable and startling. If I had a dozen thumbs, they'd all be \"up\" for this movie.\n",
      "\n",
      "Final Processed Review:\n",
      " probably alltime favorite movie story selflessness sacrifice dedication noble cause preachy boring never get old despite seen time last year paul lukas performance brings tear eye bette davis one truly sympathetic role delight kid grandma say like dressedup midget child make fun watch mother slow awakening whats happening world roof believable startling dozen thumb theyd movie\n"
     ]
    }
   ],
   "source": [
    "print(\"\\n--- END-TO-END PROCESSING EXAMPLE ---\")\n",
    "print(\"Original Review:\\n\", df['review'].iloc[5])\n",
    "print(\"\\nFinal Processed Review:\\n\", df['final_processed_review'].iloc[5])\n",
    "\n",
    "df_processed = df[['final_processed_review', 'sentiment']].copy()"
   ]
  },
  {
   "cell_type": "code",
   "execution_count": 21,
   "id": "f98eb58e",
   "metadata": {},
   "outputs": [],
   "source": [
    "from sklearn.preprocessing import LabelEncoder\n",
    "\n",
    "X = df['final_processed_review']\n",
    "\n",
    "y = df['sentiment']"
   ]
  },
  {
   "cell_type": "code",
   "execution_count": 22,
   "id": "11878dd7",
   "metadata": {},
   "outputs": [
    {
     "name": "stdout",
     "output_type": "stream",
     "text": [
      "X (features) and y (target) are defined.\n",
      "First 5 X entries:\n",
      "0    one reviewer mentioned watching oz episode you...\n",
      "1    wonderful little production filming technique ...\n",
      "2    thought wonderful way spend time hot summer we...\n",
      "3    basically there family little boy jake think t...\n",
      "4    petter matteis love time money visually stunni...\n",
      "Name: final_processed_review, dtype: object\n",
      "\n",
      "First 5 y entries (now encoded):\n",
      "[1 1 1 0 1]\n",
      "\n",
      "Data shapes: X: (50000,), y: (50000,)\n"
     ]
    }
   ],
   "source": [
    "encoder = LabelEncoder()\n",
    "y = encoder.fit_transform(y)\n",
    "\n",
    "print(\"X (features) and y (target) are defined.\")\n",
    "print(f\"First 5 X entries:\\n{X.head()}\")\n",
    "print(f\"\\nFirst 5 y entries (now encoded):\\n{y[:5]}\")\n",
    "print(f\"\\nData shapes: X: {X.shape}, y: {y.shape}\")"
   ]
  },
  {
   "cell_type": "code",
   "execution_count": 23,
   "id": "fbed325a",
   "metadata": {},
   "outputs": [
    {
     "name": "stdout",
     "output_type": "stream",
     "text": [
      "Data successfully split into training and testing sets.\n",
      "X_train shape: (40000,)  |  y_train shape: (40000,)\n",
      "X_test shape:  (10000,)   |  y_test shape:  (10000,)\n"
     ]
    }
   ],
   "source": [
    "from sklearn.model_selection import train_test_split\n",
    "\n",
    "X_train, X_test, y_train, y_test = train_test_split(\n",
    "    X, y, \n",
    "    test_size=0.2, \n",
    "    random_state=42, \n",
    "    stratify=y\n",
    ")\n",
    "\n",
    "print(\"Data successfully split into training and testing sets.\")\n",
    "print(f\"X_train shape: {X_train.shape}  |  y_train shape: {y_train.shape}\")\n",
    "print(f\"X_test shape:  {X_test.shape}   |  y_test shape:  {y_test.shape}\")"
   ]
  },
  {
   "cell_type": "code",
   "execution_count": 24,
   "id": "acfc49b2",
   "metadata": {},
   "outputs": [
    {
     "name": "stdout",
     "output_type": "stream",
     "text": [
      "TF-IDF Vectorizer instantiated.\n",
      "Fitting vectorizer and transforming X_train...\n",
      "Transforming X_test...\n",
      "Vectorization complete.\n"
     ]
    }
   ],
   "source": [
    "from sklearn.feature_extraction.text import TfidfVectorizer\n",
    "\n",
    "tfidf_vectorizer = TfidfVectorizer(max_features=5000,ngram_range=(1, 2))\n",
    "\n",
    "print(\"TF-IDF Vectorizer instantiated.\")\n",
    "\n",
    "print(\"Fitting vectorizer and transforming X_train...\")\n",
    "X_train_tfidf = tfidf_vectorizer.fit_transform(X_train)\n",
    "\n",
    "print(\"Transforming X_test...\")\n",
    "X_test_tfidf = tfidf_vectorizer.transform(X_test)\n",
    "\n",
    "print(\"Vectorization complete.\")"
   ]
  },
  {
   "cell_type": "code",
   "execution_count": 25,
   "id": "6c67a598",
   "metadata": {},
   "outputs": [
    {
     "name": "stdout",
     "output_type": "stream",
     "text": [
      "\n",
      "--- TF-IDF Matrix Shapes ---\n",
      "X_train_tfidf shape: (40000, 5000)\n",
      "X_test_tfidf shape:  (10000, 5000)\n",
      "\n",
      "Explanation:\n",
      "We have 40000 documents (reviews) in the training set.\n",
      "We have 10000 documents (reviews) in the testing set.\n",
      "Both sets have 5000 features (words), which matches our 'max_features=5000' setting.\n"
     ]
    }
   ],
   "source": [
    "print(\"\\n--- TF-IDF Matrix Shapes ---\")\n",
    "print(f\"X_train_tfidf shape: {X_train_tfidf.shape}\")\n",
    "print(f\"X_test_tfidf shape:  {X_test_tfidf.shape}\")\n",
    "\n",
    "print(\"\\nExplanation:\")\n",
    "print(f\"We have {X_train_tfidf.shape[0]} documents (reviews) in the training set.\")\n",
    "print(f\"We have {X_test_tfidf.shape[0]} documents (reviews) in the testing set.\")\n",
    "print(f\"Both sets have {X_train_tfidf.shape[1]} features (words), which matches our 'max_features=5000' setting.\")"
   ]
  },
  {
   "cell_type": "code",
   "execution_count": 26,
   "id": "6173f9fa",
   "metadata": {},
   "outputs": [],
   "source": [
    "from sklearn.linear_model import LogisticRegression\n",
    "\n",
    "from sklearn.metrics import classification_report, confusion_matrix\n",
    "\n",
    "import joblib\n",
    "\n",
    "import seaborn as sns\n",
    "import matplotlib.pyplot as plt\n",
    "\n",
    "import os\n"
   ]
  },
  {
   "cell_type": "code",
   "execution_count": 27,
   "id": "3e7cf855",
   "metadata": {},
   "outputs": [
    {
     "name": "stdout",
     "output_type": "stream",
     "text": [
      "Training the Logistic Regression model...\n",
      "Model training complete.\n"
     ]
    }
   ],
   "source": [
    "baseline_model = LogisticRegression(max_iter=1000)\n",
    "\n",
    "print(\"Training the Logistic Regression model...\")\n",
    "\n",
    "baseline_model.fit(X_train_tfidf, y_train)\n",
    "\n",
    "print(\"Model training complete.\")"
   ]
  },
  {
   "cell_type": "code",
   "execution_count": 28,
   "id": "8bc7eb48",
   "metadata": {},
   "outputs": [
    {
     "name": "stdout",
     "output_type": "stream",
     "text": [
      "Predictions made on the test set.\n",
      "\n",
      "--- Classification Report ---\n",
      "              precision    recall  f1-score   support\n",
      "\n",
      "    Negative       0.90      0.88      0.89      5000\n",
      "    Positive       0.88      0.90      0.89      5000\n",
      "\n",
      "    accuracy                           0.89     10000\n",
      "   macro avg       0.89      0.89      0.89     10000\n",
      "weighted avg       0.89      0.89      0.89     10000\n",
      "\n"
     ]
    }
   ],
   "source": [
    "y_pred = baseline_model.predict(X_test_tfidf)\n",
    "\n",
    "print(\"Predictions made on the test set.\")\n",
    "\n",
    "report = classification_report(y_test, y_pred, target_names=['Negative', 'Positive'])\n",
    "\n",
    "print(\"\\n--- Classification Report ---\")\n",
    "print(report)"
   ]
  },
  {
   "cell_type": "code",
   "execution_count": 29,
   "id": "682da539",
   "metadata": {},
   "outputs": [
    {
     "data": {
      "image/png": "[encoded data removed]",
      "text/plain": [
       "<Figure size 800x600 with 2 Axes>"
      ]
     },
     "metadata": {},
     "output_type": "display_data"
    }
   ],
   "source": [
    "cm = confusion_matrix(y_test, y_pred)\n",
    "\n",
    "plt.figure(figsize=(8, 6))\n",
    "sns.heatmap(cm, annot=True, fmt='d', cmap='Blues',\n",
    "            xticklabels=['Negative', 'Positive'],\n",
    "            yticklabels=['Negative', 'Positive'])\n",
    "plt.xlabel('Predicted Label')\n",
    "plt.ylabel('True Label')\n",
    "plt.title('Confusion Matrix Heatmap')\n",
    "plt.show()"
   ]
  },
  {
   "cell_type": "code",
   "execution_count": 30,
   "id": "8e46e50c",
   "metadata": {},
   "outputs": [
    {
     "name": "stdout",
     "output_type": "stream",
     "text": [
      "Trained model saved to: ../models\\sentiment_model_lr.joblib\n",
      "Fitted TF-IDF vectorizer saved to: ../models\\tfidf_vectorizer.joblib\n",
      "\n",
      "Baseline model and vectorizer are now saved and ready for deployment.\n"
     ]
    }
   ],
   "source": [
    "model_dir = \"../models\"\n",
    "model_path = os.path.join(model_dir, \"sentiment_model_lr.joblib\")\n",
    "vectorizer_path = os.path.join(model_dir, \"tfidf_vectorizer.joblib\")\n",
    "\n",
    "if not os.path.exists(model_dir):\n",
    "    os.makedirs(model_dir)\n",
    "    print(f\"Created directory: {model_dir}\")\n",
    "\n",
    "joblib.dump(baseline_model, model_path)\n",
    "print(f\"Trained model saved to: {model_path}\")\n",
    "\n",
    "joblib.dump(tfidf_vectorizer, vectorizer_path)\n",
    "print(f\"Fitted TF-IDF vectorizer saved to: {vectorizer_path}\")\n",
    "\n",
    "print(\"\\nBaseline model and vectorizer are now saved and ready for deployment.\")"
   ]
  }
 ],
 "metadata": {
  "kernelspec": {
   "display_name": "Python 3",
   "language": "python",
   "name": "python3"
  },
  "language_info": {
   "codemirror_mode": {
    "name": "ipython",
    "version": 3
   },
   "file_extension": ".py",
   "mimetype": "text/x-python",
   "name": "python",
   "nbconvert_exporter": "python",
   "pygments_lexer": "ipython3",
   "version": "3.11.9"
  }
 },
 "nbformat": 4,
 "nbformat_minor": 5
}
